{
  "cells": [
    {
      "cell_type": "markdown",
      "metadata": {
        "id": "sYAi0lyV8mcF"
      },
      "source": [
        "# Functions"
      ]
    },
    {
      "cell_type": "markdown",
      "metadata": {
        "id": "dr-cB1TE8mcK"
      },
      "source": [
        "On this lab we will put to practice some of the concepts we have learned on this past few days.\n",
        "\n",
        "`NOTE: On this lab you should try to write all the functions yourself using only the most basic of python syntax and without functions such as len, count, sum, max, min, in, etc. Give it a try. 🧑🏻‍💻👩🏻‍💻`\n",
        "\n",
        "The cell after each exercise contains a few tests to check if your function works as expected."
      ]
    },
    {
      "cell_type": "code",
      "source": [
        "!pip install mod"
      ],
      "metadata": {
        "colab": {
          "base_uri": "https://localhost:8080/"
        },
        "id": "Xrbr6Ipd88vJ",
        "outputId": "37a3ad26-e1ed-4d8a-e608-72a716af6c30"
      },
      "execution_count": 5,
      "outputs": [
        {
          "output_type": "stream",
          "name": "stdout",
          "text": [
            "Collecting mod\n",
            "  Downloading mod-0.3.0-py3-none-any.whl.metadata (3.6 kB)\n",
            "Downloading mod-0.3.0-py3-none-any.whl (5.0 kB)\n",
            "Installing collected packages: mod\n",
            "Successfully installed mod-0.3.0\n"
          ]
        }
      ]
    },
    {
      "cell_type": "markdown",
      "metadata": {
        "id": "VqWqyktL8mcM"
      },
      "source": [
        "## 1. Write a function that returns the greater of two numbers"
      ]
    },
    {
      "cell_type": "code",
      "execution_count": 10,
      "metadata": {
        "id": "zY3Pnj5a8mcN"
      },
      "outputs": [],
      "source": [
        "# 1. تعريف الدالة المطلوبة\n",
        "def greater(a, b):\n",
        "    if a > b:\n",
        "        return a\n",
        "    else:\n",
        "        return b\n"
      ]
    },
    {
      "cell_type": "code",
      "execution_count": 12,
      "metadata": {
        "colab": {
          "base_uri": "https://localhost:8080/"
        },
        "id": "mkYT698S8mcN",
        "outputId": "8f48817a-611e-4559-8f01-0debd3c0a7a1"
      },
      "outputs": [
        {
          "output_type": "stream",
          "name": "stdout",
          "text": [
            "5\n",
            "10\n",
            "7\n"
          ]
        }
      ],
      "source": [
        "# 2. اختبار الدالة يدوياً\n",
        "print(greater(5, 3))  # لازم يرجع 5\n",
        "print(greater(2, 10)) # لازم يرجع 10\n",
        "print(greater(7, 7))  # لازم يرجع 7\n"
      ]
    },
    {
      "cell_type": "code",
      "execution_count": 13,
      "metadata": {
        "colab": {
          "base_uri": "https://localhost:8080/"
        },
        "id": "UmOV-6jx8mcO",
        "outputId": "a4f92980-6da8-4b68-8207-d75c4e8aac33"
      },
      "outputs": [
        {
          "output_type": "stream",
          "name": "stdout",
          "text": [
            "All tests passed ✅\n"
          ]
        }
      ],
      "source": [
        "# اختبار يدوي بسيط بدون mod.testing\n",
        "assert greater(5, 3) == 5\n",
        "assert greater(2, 10) == 10\n",
        "assert greater(7, 7) == 7\n",
        "\n",
        "print(\"All tests passed ✅\")\n"
      ]
    },
    {
      "cell_type": "markdown",
      "metadata": {
        "id": "8LiPmerk8mcO"
      },
      "source": [
        "## 2. Now write a function that returns the largest element on a list"
      ]
    },
    {
      "cell_type": "code",
      "execution_count": 14,
      "metadata": {
        "id": "_JjQ1Zzi8mcO"
      },
      "outputs": [],
      "source": [
        "def greatest(lst):\n",
        "    # نفترض أن أول عنصر هو الأكبر مؤقتاً\n",
        "    greatest_value = lst[0]\n",
        "\n",
        "    # نمر على باقي العناصر\n",
        "    for item in lst:\n",
        "        if item > greatest_value:\n",
        "            greatest_value = item\n",
        "\n",
        "    return greatest_value\n"
      ]
    },
    {
      "cell_type": "code",
      "execution_count": 15,
      "metadata": {
        "colab": {
          "base_uri": "https://localhost:8080/"
        },
        "id": "mW4X6_Yu8mcP",
        "outputId": "c48f21b1-aefd-40a5-d3e9-f9a96cddc0b4"
      },
      "outputs": [
        {
          "output_type": "stream",
          "name": "stdout",
          "text": [
            "All tests passed ✅\n"
          ]
        }
      ],
      "source": [
        "assert greatest([1, 5, 2, 9, 4]) == 9\n",
        "assert greatest([-5, -1, -3, -2]) == -1\n",
        "assert greatest([7]) == 7\n",
        "\n",
        "print(\"All tests passed ✅\")\n"
      ]
    },
    {
      "cell_type": "markdown",
      "metadata": {
        "id": "GvcRqT7I8mcP"
      },
      "source": [
        "## 3. Write a function that sums all the elements on a list"
      ]
    },
    {
      "cell_type": "code",
      "execution_count": 16,
      "metadata": {
        "id": "_7oc1dfX8mcP"
      },
      "outputs": [],
      "source": [
        "def sum_all(lst):\n",
        "    total = 0\n",
        "    for item in lst:\n",
        "        total += item\n",
        "    return total\n"
      ]
    },
    {
      "cell_type": "code",
      "execution_count": 17,
      "metadata": {
        "scrolled": true,
        "colab": {
          "base_uri": "https://localhost:8080/"
        },
        "id": "JgZ_-S5x8mcQ",
        "outputId": "9f6fd063-56a5-4b25-b796-3e0288e04947"
      },
      "outputs": [
        {
          "output_type": "stream",
          "name": "stdout",
          "text": [
            "All tests passed ✅\n"
          ]
        }
      ],
      "source": [
        "assert sum_all([1, 2, 3, 4, 5]) == 15\n",
        "assert sum_all([-1, -2, -3]) == -6\n",
        "assert sum_all([10]) == 10\n",
        "\n",
        "print(\"All tests passed ✅\")\n"
      ]
    },
    {
      "cell_type": "markdown",
      "metadata": {
        "id": "wEN4J2YJ8mcQ"
      },
      "source": [
        "## 4. Write another function that multiplies all the elements on a list"
      ]
    },
    {
      "cell_type": "code",
      "execution_count": 18,
      "metadata": {
        "id": "h81SgljW8mcQ"
      },
      "outputs": [],
      "source": [
        "def mult_all(lst):\n",
        "    result = 1  # نبدأ بـ 1 لأن الضرب المحايد هو 1\n",
        "    for item in lst:\n",
        "        result *= item\n",
        "    return result\n"
      ]
    },
    {
      "cell_type": "code",
      "execution_count": 19,
      "metadata": {
        "scrolled": true,
        "colab": {
          "base_uri": "https://localhost:8080/"
        },
        "id": "WPNUfHkw8mcR",
        "outputId": "07f1917c-1551-4127-8a9f-859bd722b192"
      },
      "outputs": [
        {
          "output_type": "stream",
          "name": "stdout",
          "text": [
            "All tests passed ✅\n"
          ]
        }
      ],
      "source": [
        "assert mult_all([1, 2, 3, 4]) == 24\n",
        "assert mult_all([5, 5, 5]) == 125\n",
        "assert mult_all([10]) == 10\n",
        "assert mult_all([1, -1, 1, -1]) == 1\n",
        "\n",
        "print(\"All tests passed ✅\")\n"
      ]
    },
    {
      "cell_type": "markdown",
      "metadata": {
        "id": "Vp5D8-TQ8mcR"
      },
      "source": [
        "## 5. Now combine those two ideas and write a function that receives a list and either \"+\" or \"*\" and outputs acordingly"
      ]
    },
    {
      "cell_type": "code",
      "execution_count": 20,
      "metadata": {
        "id": "CuryY4QZ8mcR"
      },
      "outputs": [],
      "source": [
        "def oper_all(arr, oper=\"*\"):\n",
        "    if oper == \"+\":\n",
        "        result = 0\n",
        "        for item in arr:\n",
        "            result += item\n",
        "    elif oper == \"*\":\n",
        "        result = 1\n",
        "        for item in arr:\n",
        "            result *= item\n",
        "    else:\n",
        "        result = None  # لو العملية غير معروفة\n",
        "    return result\n"
      ]
    },
    {
      "cell_type": "code",
      "execution_count": 21,
      "metadata": {
        "colab": {
          "base_uri": "https://localhost:8080/"
        },
        "id": "_1eXmzPn8mcS",
        "outputId": "feb1aa4b-acd7-4677-cc01-a2509b4857d5"
      },
      "outputs": [
        {
          "output_type": "stream",
          "name": "stdout",
          "text": [
            "All tests passed ✅\n"
          ]
        }
      ],
      "source": [
        "assert oper_all([1, 2, 3, 4], \"+\") == 10\n",
        "assert oper_all([1, 2, 3, 4], \"*\") == 24\n",
        "assert oper_all([5], \"+\") == 5\n",
        "assert oper_all([5], \"*\") == 5\n",
        "\n",
        "print(\"All tests passed ✅\")\n"
      ]
    },
    {
      "cell_type": "markdown",
      "metadata": {
        "id": "MLCPkiBw8mcS"
      },
      "source": [
        "## 6. Write a function that returns the factorial of a number."
      ]
    },
    {
      "cell_type": "code",
      "execution_count": 23,
      "metadata": {
        "id": "w31AIRJp8mcS"
      },
      "outputs": [],
      "source": [
        "def factorial(n):\n",
        "    result = 1\n",
        "    for i in range(1, n + 1):\n",
        "        result *= i\n",
        "    return result\n"
      ]
    },
    {
      "cell_type": "code",
      "execution_count": 24,
      "metadata": {
        "colab": {
          "base_uri": "https://localhost:8080/"
        },
        "id": "zvuKIlnI8mcT",
        "outputId": "56ddcca7-8517-40e4-bf7f-d868b6de9d05"
      },
      "outputs": [
        {
          "output_type": "stream",
          "name": "stdout",
          "text": [
            "All tests passed ✅\n"
          ]
        }
      ],
      "source": [
        "assert factorial(0) == 1   # 0! = 1\n",
        "assert factorial(1) == 1   # 1! = 1\n",
        "assert factorial(5) == 120 # 5! = 5*4*3*2*1 = 120\n",
        "assert factorial(6) == 720 # 6! = 720\n",
        "\n",
        "print(\"All tests passed ✅\")\n"
      ]
    },
    {
      "cell_type": "markdown",
      "metadata": {
        "id": "u64dEIrN8mcT"
      },
      "source": [
        "## 7. Write a function that takes a list and returns a list of the unique values.\n",
        "\n",
        "`NOTE: You cannot use set. 🤔`"
      ]
    },
    {
      "cell_type": "code",
      "execution_count": 25,
      "metadata": {
        "id": "4uJccPpx8mcU"
      },
      "outputs": [],
      "source": [
        "def unique(lst_un):\n",
        "    unique_list = []\n",
        "    for item in lst_un:\n",
        "        found = False\n",
        "        for u_item in unique_list:\n",
        "            if u_item == item:\n",
        "                found = True\n",
        "                break\n",
        "        if not found:\n",
        "            unique_list.append(item)\n",
        "    return unique_list\n"
      ]
    },
    {
      "cell_type": "code",
      "execution_count": 26,
      "metadata": {
        "colab": {
          "base_uri": "https://localhost:8080/"
        },
        "id": "Gm2cykYf8mcU",
        "outputId": "990d5c71-3970-4d7f-eff9-dee55621c3fa"
      },
      "outputs": [
        {
          "output_type": "stream",
          "name": "stdout",
          "text": [
            "All tests passed ✅\n"
          ]
        }
      ],
      "source": [
        "assert unique([1, 2, 2, 3, 4, 4, 5]) == [1, 2, 3, 4, 5]\n",
        "assert unique([5, 5, 5, 5, 5]) == [5]\n",
        "assert unique([]) == []\n",
        "assert unique([1, 2, 3]) == [1, 2, 3]\n",
        "\n",
        "print(\"All tests passed ✅\")\n"
      ]
    },
    {
      "cell_type": "markdown",
      "metadata": {
        "id": "ZaT2h8348mcU"
      },
      "source": [
        "## 8. Write a function that returns the mode of a list, i.e.: the element that appears the most times.\n",
        "`NOTE: You should not use count... 🧐`"
      ]
    },
    {
      "cell_type": "code",
      "execution_count": 27,
      "metadata": {
        "id": "bf-RLj_M8mcU"
      },
      "outputs": [],
      "source": [
        "def mode_counter(arr):\n",
        "    counts = []  # قائمة تجمع عدد مرات ظهور كل عنصر\n",
        "    for item in arr:\n",
        "        count = 0\n",
        "        for other in arr:\n",
        "            if item == other:\n",
        "                count += 1\n",
        "        counts.append((item, count))  # نخزن العنصر وعدد تكراره\n",
        "\n",
        "    # الآن نبحث عن العنصر اللي تكراره أكبر شيء\n",
        "    mode = counts[0][0]\n",
        "    max_count = counts[0][1]\n",
        "    for item, count in counts:\n",
        "        if count > max_count:\n",
        "            mode = item\n",
        "            max_count = count\n",
        "\n",
        "    return mode\n"
      ]
    },
    {
      "cell_type": "code",
      "execution_count": 28,
      "metadata": {
        "colab": {
          "base_uri": "https://localhost:8080/"
        },
        "id": "PD4frt_K8mcV",
        "outputId": "0bbb1018-76c3-4806-f56c-4e10dd681e9b"
      },
      "outputs": [
        {
          "output_type": "stream",
          "name": "stdout",
          "text": [
            "All tests passed ✅\n"
          ]
        }
      ],
      "source": [
        "assert mode_counter([1, 2, 2, 3, 3, 3, 4]) == 3\n",
        "assert mode_counter([5, 5, 5, 1, 1, 2]) == 5\n",
        "assert mode_counter([7]) == 7\n",
        "\n",
        "print(\"All tests passed ✅\")\n"
      ]
    },
    {
      "cell_type": "markdown",
      "metadata": {
        "id": "olFlq6lu8mcV"
      },
      "source": [
        "## 9. Write a function that calculates the standard deviation of a list.\n",
        "`NOTE: Do not use any libraries or already built functions. 😉`"
      ]
    },
    {
      "cell_type": "code",
      "execution_count": 29,
      "metadata": {
        "id": "E17kZJl98mcV"
      },
      "outputs": [],
      "source": [
        "def st_dev(list_sd):\n",
        "    # حساب عدد العناصر (بدون len)\n",
        "    count = 0\n",
        "    for _ in list_sd:\n",
        "        count += 1\n",
        "\n",
        "    # حساب المتوسط (المعدل)\n",
        "    total = 0\n",
        "    for item in list_sd:\n",
        "        total += item\n",
        "    mean = total / count\n",
        "\n",
        "    # حساب مجموع الفروق المربعة\n",
        "    sum_squared_diff = 0\n",
        "    for item in list_sd:\n",
        "        diff = item - mean\n",
        "        sum_squared_diff += diff * diff\n",
        "\n",
        "    # حساب المتوسط للفروق المربعة\n",
        "    variance = sum_squared_diff / count\n",
        "\n",
        "    # حساب الجذر التربيعي (تقدير يدوي للجذر)\n",
        "    # تقريباً باستخدام طريقة القوة 0.5\n",
        "    sqrt_var = variance ** 0.5\n",
        "\n",
        "    return sqrt_var\n"
      ]
    },
    {
      "cell_type": "code",
      "execution_count": 33,
      "metadata": {
        "colab": {
          "base_uri": "https://localhost:8080/"
        },
        "id": "p06rlFxq8mcW",
        "outputId": "a7f93b26-060a-435a-c1b2-e2ee03d3e186"
      },
      "outputs": [
        {
          "output_type": "stream",
          "name": "stdout",
          "text": [
            "All tests passed ✅\n"
          ]
        }
      ],
      "source": [
        "# نسمح بفرق بسيط بسبب الفواصل العشرية\n",
        "assert abs(st_dev([2, 4, 4, 4, 5, 5, 7, 9]) - 2.0) < 0.0001\n",
        "assert abs(st_dev([1, 1, 1, 1]) - 0.0) < 0.0001\n",
        "assert abs(st_dev([1, 2, 3]) - 0.8164965809) < 0.0001\n",
        "\n",
        "print(\"All tests passed ✅\")\n"
      ]
    },
    {
      "cell_type": "markdown",
      "metadata": {
        "id": "y0BVnBPl8mcW"
      },
      "source": [
        "## 10. Write a function to check if a string is a pangram, i.e.: if it contains all the letters of the alphabet at least once. Mind that the strings may contain characters that are not letters."
      ]
    },
    {
      "cell_type": "code",
      "execution_count": 34,
      "metadata": {
        "id": "0k3rFBVw8mcX"
      },
      "outputs": [],
      "source": [
        "def pangram(string):\n",
        "    # نحضر جميع الأحرف من a إلى z\n",
        "    alphabet = []\n",
        "    code = ord('a')\n",
        "    while code <= ord('z'):\n",
        "        alphabet.append(chr(code))\n",
        "        code += 1\n",
        "\n",
        "    # نحول النص كله إلى أحرف صغيرة (lowercase)\n",
        "    lower_string = \"\"\n",
        "    for char in string:\n",
        "        # فقط الحروف نحولها\n",
        "        if 'A' <= char <= 'Z':\n",
        "            lower_string += chr(ord(char) + 32)\n",
        "        else:\n",
        "            lower_string += char\n",
        "\n",
        "    # نتأكد أن كل حرف من الأبجدية موجود في النص\n",
        "    for letter in alphabet:\n",
        "        found = False\n",
        "        for char in lower_string:\n",
        "            if char == letter:\n",
        "                found = True\n",
        "                break\n",
        "        if not found:\n",
        "            return False\n",
        "\n",
        "    return True\n"
      ]
    },
    {
      "cell_type": "code",
      "execution_count": 35,
      "metadata": {
        "colab": {
          "base_uri": "https://localhost:8080/"
        },
        "id": "2UfYVql_8mcY",
        "outputId": "4bc6560d-e4a8-46de-efcd-1aae1dad48e0"
      },
      "outputs": [
        {
          "output_type": "stream",
          "name": "stdout",
          "text": [
            "All tests passed ✅\n"
          ]
        }
      ],
      "source": [
        "assert pangram(\"The quick brown fox jumps over the lazy dog\") == True\n",
        "assert pangram(\"Hello world\") == False\n",
        "assert pangram(\"Pack my box with five dozen liquor jugs.\") == True\n",
        "\n",
        "print(\"All tests passed ✅\")\n"
      ]
    },
    {
      "cell_type": "markdown",
      "metadata": {
        "id": "jO8ZMhMr8mcY"
      },
      "source": [
        "## 11. Write a function that receives a string of comma separated words and returns a string of comma separated words sorted alphabetically.\n",
        "\n",
        "`NOTE: You may use sorted but not split and definitely no join! 🤪`"
      ]
    },
    {
      "cell_type": "code",
      "execution_count": 36,
      "metadata": {
        "id": "2DNebDPk8mcZ"
      },
      "outputs": [],
      "source": [
        "def sort_alpha(string):\n",
        "    # أولاً نفصل الكلمات بنفسنا بدل split\n",
        "    words = []\n",
        "    word = \"\"\n",
        "    for char in string:\n",
        "        if char == ',':\n",
        "            words.append(word)\n",
        "            word = \"\"\n",
        "        else:\n",
        "            word += char\n",
        "    words.append(word)  # نضيف آخر كلمة بعد انتهاء الحلقة\n",
        "\n",
        "    # نرتب الكلمات باستخدام sorted\n",
        "    sorted_words = sorted(words)\n",
        "\n",
        "    # نعيد بناء النص يدويًا بدل join\n",
        "    result = \"\"\n",
        "    index = 0\n",
        "    for word in sorted_words:\n",
        "        result += word\n",
        "        if index != len(sorted_words) - 1:\n",
        "            result += \",\"\n",
        "        index += 1\n",
        "\n",
        "    return result\n"
      ]
    },
    {
      "cell_type": "code",
      "execution_count": 37,
      "metadata": {
        "colab": {
          "base_uri": "https://localhost:8080/"
        },
        "id": "V7uq087q8mcZ",
        "outputId": "2a432425-5dff-4670-e6b6-c3caaa85afd6"
      },
      "outputs": [
        {
          "output_type": "stream",
          "name": "stdout",
          "text": [
            "All tests passed ✅\n"
          ]
        }
      ],
      "source": [
        "assert sort_alpha(\"banana,apple,pear\") == \"apple,banana,pear\"\n",
        "assert sort_alpha(\"dog,cat,elephant\") == \"cat,dog,elephant\"\n",
        "assert sort_alpha(\"zebra,monkey,apple\") == \"apple,monkey,zebra\"\n",
        "\n",
        "print(\"All tests passed ✅\")\n"
      ]
    },
    {
      "cell_type": "markdown",
      "metadata": {
        "id": "2NJkp0lI8mca"
      },
      "source": [
        "## 12. Write a function to check if a given password is strong (at least 8 characters, at least one lower case, at least one upper case, at least one number and at least one special character). It should output True if strong and False if not."
      ]
    },
    {
      "cell_type": "code",
      "execution_count": 38,
      "metadata": {
        "id": "sL9cZiiu8mcb"
      },
      "outputs": [],
      "source": [
        "def check_pass(password):\n",
        "    # تحقق من الطول\n",
        "    count = 0\n",
        "    for _ in password:\n",
        "        count += 1\n",
        "    if count < 8:\n",
        "        return False\n",
        "\n",
        "    # علامات التحقق\n",
        "    has_lower = False\n",
        "    has_upper = False\n",
        "    has_digit = False\n",
        "    has_special = False\n",
        "\n",
        "    # الحروف المسموح بها\n",
        "    specials = \"!@#$%^&*()-_+=[]{}|;:',.<>?/`~\"\n",
        "\n",
        "    for char in password:\n",
        "        if 'a' <= char <= 'z':\n",
        "            has_lower = True\n",
        "        elif 'A' <= char <= 'Z':\n",
        "            has_upper = True\n",
        "        elif '0' <= char <= '9':\n",
        "            has_digit = True\n",
        "        else:\n",
        "            # إذا لم يكن حرف ولا رقم، نعتبره رمز خاص\n",
        "            for spec in specials:\n",
        "                if char == spec:\n",
        "                    has_special = True\n",
        "                    break\n",
        "\n",
        "    # نرجع النتيجة النهائية\n",
        "    if has_lower and has_upper and has_digit and has_special:\n",
        "        return True\n",
        "    else:\n",
        "        return False\n"
      ]
    },
    {
      "cell_type": "code",
      "execution_count": 39,
      "metadata": {
        "colab": {
          "base_uri": "https://localhost:8080/"
        },
        "id": "g_yV6X7s8mcb",
        "outputId": "957dcfa4-26fd-4e27-ad78-c82559f4ebe4"
      },
      "outputs": [
        {
          "output_type": "stream",
          "name": "stdout",
          "text": [
            "All tests passed ✅\n"
          ]
        }
      ],
      "source": [
        "assert check_pass(\"StrongPass1!\") == True\n",
        "assert check_pass(\"weakpass\") == False\n",
        "assert check_pass(\"NOLOWERCASE1!\") == False\n",
        "assert check_pass(\"nouppercase1!\") == False\n",
        "assert check_pass(\"NoNumber!\") == False\n",
        "assert check_pass(\"NoSpecialChar1\") == False\n",
        "\n",
        "print(\"All tests passed ✅\")\n"
      ]
    }
  ],
  "metadata": {
    "kernelspec": {
      "display_name": "Python 3 (ipykernel)",
      "language": "python",
      "name": "python3"
    },
    "language_info": {
      "codemirror_mode": {
        "name": "ipython",
        "version": 3
      },
      "file_extension": ".py",
      "mimetype": "text/x-python",
      "name": "python",
      "nbconvert_exporter": "python",
      "pygments_lexer": "ipython3",
      "version": "3.9.13"
    },
    "vscode": {
      "interpreter": {
        "hash": "aee8b7b246df8f9039afb4144a1f6fd8d2ca17a180786b69acc140d282b71a49"
      }
    },
    "colab": {
      "provenance": []
    }
  },
  "nbformat": 4,
  "nbformat_minor": 0
}